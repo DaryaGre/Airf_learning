{
 "cells": [
  {
   "cell_type": "markdown",
   "metadata": {},
   "source": [
    "1. Какой из флагов утилиты crontab покажет список существующих кронов?\n",
    "\n",
    "Ответ: crontab -l"
   ]
  },
  {
   "cell_type": "markdown",
   "metadata": {},
   "source": [
    "2. Напишите крон, который будет запускаться каждую пятницу в 9 часов вечера.\n",
    "\n",
    "Ответ: 0 9 * * 5"
   ]
  },
  {
   "cell_type": "markdown",
   "metadata": {},
   "source": [
    "3. Напишите крон, который будет запускаться каждое воскресенье марта месяца на протяжении всего дня с интервалом в 4 часа (т.е. запуск будет в 2021-03-07 00:00:00, затем 2021-03-07 04:00:00 и т.д.)\n",
    "\n",
    "Ответ: 0 0/4 * 3 7"
   ]
  },
  {
   "cell_type": "markdown",
   "metadata": {},
   "source": [
    "4. Отметьте все картинки, где изображен направленный ациклический граф.\n",
    "\n",
    "<img src=\"images/1/dag_question.png\" style=\"width: 500px;\"> \n",
    "\n",
    "Ответ: 1,3"
   ]
  },
  {
   "cell_type": "markdown",
   "metadata": {},
   "source": [
    "5. Опишите своими словами, как Вы поняли, чем отличается task от operator?\n",
    "\n",
    "Ответ: оператор это узел DAGа то что запускает выполнение задач(и), а задача это то что должно быть непосредственно выполнено"
   ]
  },
  {
   "cell_type": "code",
   "execution_count": null,
   "metadata": {},
   "outputs": [],
   "source": []
  }
 ],
 "metadata": {
  "kernelspec": {
   "display_name": "Python 3",
   "language": "python",
   "name": "python3"
  },
  "language_info": {
   "codemirror_mode": {
    "name": "ipython",
    "version": 3
   },
   "file_extension": ".py",
   "mimetype": "text/x-python",
   "name": "python",
   "nbconvert_exporter": "python",
   "pygments_lexer": "ipython3",
   "version": "3.7.4"
  }
 },
 "nbformat": 4,
 "nbformat_minor": 2
}
